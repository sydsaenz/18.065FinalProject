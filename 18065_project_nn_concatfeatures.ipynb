{
 "cells": [
  {
   "cell_type": "code",
   "execution_count": 16,
   "id": "daab8b7b",
   "metadata": {},
   "outputs": [],
   "source": [
    "import pandas as pd\n",
    "import numpy as np\n",
    "\n",
    "features = pd.read_csv('team_features.csv')\n",
    "matches = pd.read_csv('MNCAATourneyCompactResults.csv')\n",
    "matches.drop(columns = ['DayNum', 'WScore', 'LScore', 'WLoc', 'NumOT'])\n",
    "matches = pd.merge(matches[['Season', 'WTeamID', 'LTeamID']], features[['TeamID', 'Season', 'weighted_past_seed',\n",
    "       '3pt_success_rate', 'freethrow_success_rate', 'field_success_rate']], left_on=['Season', 'WTeamID'], right_on = ['Season', 'TeamID'])\n",
    "\n",
    "matches = matches.drop(columns = ['TeamID'])\n",
    "matches = matches.rename(columns = {'weighted_past_seed': 'weighted_past_seed_W', \n",
    "                                    '3pt_success_rate': '3pt_success_rate_W', \n",
    "                                    'freethrow_success_rate': 'freethrow_success_rate_W',\n",
    "                                    'freethrow_success_rate': 'freethrow_success_rate_W',\n",
    "                                    'field_success_rate': 'field_success_rate_W'\n",
    "                                    })\n",
    "matches = pd.merge(matches[['Season', 'WTeamID', 'LTeamID', 'weighted_past_seed_W',\n",
    "       '3pt_success_rate_W', 'freethrow_success_rate_W',\n",
    "       'field_success_rate_W']], features[['TeamID', 'Season', 'weighted_past_seed',\n",
    "       '3pt_success_rate', 'freethrow_success_rate', 'field_success_rate']], left_on=['Season', 'LTeamID'], right_on = ['Season', 'TeamID'])\n",
    "\n",
    "matches = matches.drop(columns=['TeamID'])\n",
    "matches = matches.rename(columns = {'weighted_past_seed': 'weighted_past_seed_L', \n",
    "                                    '3pt_success_rate': '3pt_success_rate_L', \n",
    "                                    'freethrow_success_rate': 'freethrow_success_rate_L',\n",
    "                                    'field_success_rate': 'field_success_rate_L'\n",
    "                                    })\n",
    "\n",
    "\n",
    "cols = list(matches.columns)\n",
    "all_cols = {'weighted_past_seed', '3pt_success_rate', 'freethrow_success_rate', 'field_success_rate'}\n",
    "for col in all_cols:\n",
    "    i, j = cols.index(col+'_W'), cols.index(col+'_L')\n",
    "    cols[i], cols[j] = cols[j], cols[i]\n",
    "    matches_negated = matches[cols]\n",
    "\n",
    "matches['label'] = np.full(len(matches), 1)\n",
    "matches_negated['label'] = np.full(len(matches_negated), 0)\n",
    "\n",
    "data = pd.concat([matches, matches_negated])\n",
    "data = data.drop(columns = ['Season', 'WTeamID', 'LTeamID'])"
   ]
  },
  {
   "cell_type": "code",
   "execution_count": 17,
   "id": "73913796",
   "metadata": {},
   "outputs": [
    {
     "name": "stdout",
     "output_type": "stream",
     "text": [
      "epoch 10: Loss  0.6929\n",
      "epoch 20: Loss  0.6925\n",
      "epoch 30: Loss  0.6917\n",
      "epoch 40: Loss  0.6910\n",
      "epoch 50: Loss  0.6902\n",
      "epoch 60: Loss  0.6893\n",
      "epoch 70: Loss  0.6886\n",
      "epoch 80: Loss  0.6881\n",
      "epoch 90: Loss  0.6869\n",
      "epoch 100: Loss  0.6859\n",
      "validation accuracy:  46.33%\n"
     ]
    }
   ],
   "source": [
    "import torch\n",
    "from torch.utils.data import TensorDataset, DataLoader\n",
    "from sklearn.model_selection import train_test_split\n",
    "from sklearn.preprocessing import StandardScaler\n",
    "scaler = StandardScaler()\n",
    "X = data.drop(columns='label').values.astype('float32')\n",
    "Y = data['label'].values.astype('float32')\n",
    "X = scaler.fit_transform(X)\n",
    "\n",
    "X_train, X_val, Y_train, Y_val = train_test_split(X, Y, train_size=0.8, random_state=42)\n",
    "\n",
    "X_train_tensor = torch.tensor(X_train)\n",
    "X_val_tensor = torch.tensor(X_val)\n",
    "Y_train_tensor = torch.tensor(Y_train).unsqueeze(1)\n",
    "Y_val_tensor = torch.tensor(Y_val).unsqueeze(1)\n",
    "\n",
    "train_dataset = TensorDataset(X_train_tensor, Y_train_tensor)\n",
    "train_loader = DataLoader(train_dataset, batch_size=64, shuffle=True)\n",
    "val_dataset = TensorDataset(X_val_tensor, Y_val_tensor)\n",
    "val_loader = DataLoader(val_dataset, batch_size=64, shuffle=True)\n",
    "\n",
    "from torch import nn\n",
    "class FCNN(nn.Module):\n",
    "    def __init__(self, input_dim):\n",
    "        super().__init__()\n",
    "        self.layers = nn.Sequential(\n",
    "            nn.Linear(input_dim, 64),\n",
    "            nn.ReLU(),\n",
    "            nn.Linear(64, 16),\n",
    "            nn.ReLU(),\n",
    "            nn.Linear(16, 1))       #nn.Sequential takes in batchsize x input_dim\n",
    "    def forward(self, x):\n",
    "        return self.layers(x)\n",
    "    \n",
    "model = FCNN(X_train.shape[1])\n",
    "criterion = nn.BCEWithLogitsLoss()\n",
    "opt = torch.optim.Adam(model.parameters(), lr = 0.001)\n",
    "#learning rate too high will cause exploding weights -> NaNs in y_pred\n",
    "\n",
    "max_epoch = 100\n",
    "for epoch in range(max_epoch):\n",
    "    model.train()\n",
    "    avg_loss = 0\n",
    "    for x, y in train_loader:\n",
    "        y_pred = model(x)\n",
    "        loss = criterion(y_pred, y)\n",
    "        opt.zero_grad()\n",
    "        loss.backward()\n",
    "        opt.step()\n",
    "\n",
    "        avg_loss += loss.item()/len(train_loader)\n",
    "    if (epoch + 1) % 10 == 0:\n",
    "        print(f\"epoch {epoch+1}: Loss {avg_loss: .4f}\")\n",
    "\n",
    "model.eval()\n",
    "with torch.no_grad():\n",
    "    correct = 0\n",
    "    total = 0\n",
    "    for x, y in val_loader:\n",
    "        y_pred = model(x)\n",
    "        pred = y_pred >= 0.5\n",
    "        correct += (pred == y).sum().item()\n",
    "        total += len(x)\n",
    "print(f\"validation accuracy: {correct/total: .2%}\")"
   ]
  },
  {
   "cell_type": "code",
   "execution_count": 18,
   "id": "edb47494",
   "metadata": {},
   "outputs": [
    {
     "data": {
      "text/plain": [
       "8"
      ]
     },
     "execution_count": 18,
     "metadata": {},
     "output_type": "execute_result"
    }
   ],
   "source": [
    "X_train.shape[1]"
   ]
  }
 ],
 "metadata": {
  "kernelspec": {
   "display_name": "Python 3",
   "language": "python",
   "name": "python3"
  },
  "language_info": {
   "codemirror_mode": {
    "name": "ipython",
    "version": 3
   },
   "file_extension": ".py",
   "mimetype": "text/x-python",
   "name": "python",
   "nbconvert_exporter": "python",
   "pygments_lexer": "ipython3",
   "version": "3.9.6"
  }
 },
 "nbformat": 4,
 "nbformat_minor": 5
}
